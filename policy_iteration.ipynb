{
 "cells": [
  {
   "cell_type": "code",
   "execution_count": 1,
   "metadata": {},
   "outputs": [],
   "source": [
    "import numpy as np"
   ]
  },
  {
   "cell_type": "code",
   "execution_count": 2,
   "metadata": {},
   "outputs": [],
   "source": [
    "row = 5\n",
    "col = 5\n",
    "state_index_mapping = {}\n",
    "index_state_mapping = {}\n",
    "\n",
    "count = 0\n",
    "for i in range(row):\n",
    "    for j in range(col):\n",
    "        state_index_mapping[count] = (i, j)\n",
    "        count += 1\n",
    "\n",
    "count = 0\n",
    "for i in range(row):\n",
    "    for j in range(col):\n",
    "        index_state_mapping[(i, j)] = count\n",
    "        count += 1\n",
    "        \n",
    "actions = [(-1, 0), (1, 0), (0, -1), (0, 1)]\n",
    "gamma = 0.9\n",
    "\n",
    "def valid_state(i, j):\n",
    "    return 0 <= i < row and 0 <= j < col\n",
    "\n",
    "# starting with equiprobable actions\n",
    "policy_pie = {}\n",
    "\n"
   ]
  },
  {
   "cell_type": "code",
   "execution_count": 3,
   "metadata": {},
   "outputs": [
    {
     "name": "stdout",
     "output_type": "stream",
     "text": [
      "{}\n",
      "{0: (0, 0), 1: (0, 1), 2: (0, 2), 3: (0, 3), 4: (0, 4), 5: (1, 0), 6: (1, 1), 7: (1, 2), 8: (1, 3), 9: (1, 4), 10: (2, 0), 11: (2, 1), 12: (2, 2), 13: (2, 3), 14: (2, 4), 15: (3, 0), 16: (3, 1), 17: (3, 2), 18: (3, 3), 19: (3, 4), 20: (4, 0), 21: (4, 1), 22: (4, 2), 23: (4, 3), 24: (4, 4)}\n",
      "{(0, 0): 0, (0, 1): 1, (0, 2): 2, (0, 3): 3, (0, 4): 4, (1, 0): 5, (1, 1): 6, (1, 2): 7, (1, 3): 8, (1, 4): 9, (2, 0): 10, (2, 1): 11, (2, 2): 12, (2, 3): 13, (2, 4): 14, (3, 0): 15, (3, 1): 16, (3, 2): 17, (3, 3): 18, (3, 4): 19, (4, 0): 20, (4, 1): 21, (4, 2): 22, (4, 3): 23, (4, 4): 24}\n"
     ]
    }
   ],
   "source": [
    "print(policy_pie)\n",
    "print(state_index_mapping)\n",
    "print(index_state_mapping)"
   ]
  },
  {
   "cell_type": "code",
   "execution_count": 6,
   "metadata": {},
   "outputs": [],
   "source": [
    "def show_state_value(row, col, old_state_values):\n",
    "    for i in range(row):\n",
    "        for j in range(col):\n",
    "            print(round(old_state_values[index_state_mapping[(i, j)]], 2), end = \" \")\n",
    "        print()\n",
    "    print()\n",
    "\n",
    "def current_best_action(policy_pie, state):\n",
    "    maxi = 0\n",
    "    maxi_index = 0\n",
    "    for action in range(4):\n",
    "        if(policy_pie[state][action] >= maxi):\n",
    "            maxi = policy_pie[state][action] \n",
    "            maxi_index = action\n",
    "    return maxi_index"
   ]
  },
  {
   "cell_type": "code",
   "execution_count": 1,
   "metadata": {},
   "outputs": [],
   "source": [
    "# policy iteration\n",
    "def policy_iteration(num_states, theta, tolerance):\n",
    "    old_state_values = np.zeros(num_states) # Initialization\n",
    "    new_state_values = np.zeros(num_states)\n",
    "    for i in range(row*col):\n",
    "        policy_pie[i] = {}\n",
    "        for action in range(4):\n",
    "            policy_pie[i][action] = (1/4)\n",
    "    \n",
    "    # policy evaluation\n",
    "    count = 0\n",
    "    flag = True\n",
    "    while True and flag:\n",
    "        print(count)\n",
    "        count += 1\n",
    "        while True:\n",
    "            delta = 0\n",
    "            # count +=1\n",
    "            for state in range(row*col):\n",
    "                if state not in [1,3]:\n",
    "                    for action in range(4):\n",
    "                        next_state_i = state_index_mapping[state][0] + actions[action][0] \n",
    "                        next_state_j = state_index_mapping[state][1] + actions[action][1]\n",
    "                        if valid_state(next_state_i, next_state_j):\n",
    "                            new_state_values[state] += policy_pie[state][action]*(1)*(0 + gamma*old_state_values[index_state_mapping[(next_state_i, next_state_j)]])\n",
    "                        else:\n",
    "                            new_state_values[state] += policy_pie[state][action]*(1)*(-1 + gamma*old_state_values[state]) \n",
    "                elif state == 1:\n",
    "                    new_state_values[state] = 10 + gamma*old_state_values[21]\n",
    "                elif state == 3:\n",
    "                    new_state_values[state] = 5 + gamma*old_state_values[13]\n",
    "                delta = max(delta, abs(old_state_values[state]-new_state_values[state])) \n",
    "            # print(delta)\n",
    "            # show_state_value(row, col, old_state_values)\n",
    "            # show_state_value(row, col, new_state_values)\n",
    "            old_state_values = np.copy(new_state_values)\n",
    "            new_state_values = np.zeros(num_states) \n",
    "            # show_state_value(row, col, old_state_values)\n",
    "            # print(delta)\n",
    "            if(delta < theta):\n",
    "                print(\"complete\")\n",
    "                # show_state_value(row, col, old_state_values)\n",
    "                break\n",
    "        # policy improvement\n",
    "        while True:\n",
    "            policy_stable = True\n",
    "            for state in range(row*col):\n",
    "                old_action = current_best_action(policy_pie, state)\n",
    "                state_action_value = []\n",
    "                if state != 1 or state != 3:\n",
    "                    for action in range(4):\n",
    "                        next_state_i = state_index_mapping[state][0] + actions[action][0] \n",
    "                        next_state_j = state_index_mapping[state][1] + actions[action][1]\n",
    "                        if valid_state(next_state_i, next_state_j):\n",
    "                            state_action_value.append(0 + gamma*old_state_values[index_state_mapping[(next_state_i, next_state_j)]])\n",
    "                        else:\n",
    "                            state_action_value.append(-1 + gamma*old_state_values[state])\n",
    "                elif state == 1:\n",
    "                    for action in range(4):\n",
    "                        state_action_value.append(10 +  gamma*old_state_values[21])                  \n",
    "                elif state == 3:\n",
    "                    for action in range(4):\n",
    "                        state_action_value.append(5 +  gamma*old_state_values[13])  \n",
    "                # updating policy_pie\n",
    "                optimal_action = state_action_value.index(max(state_action_value))\n",
    "                policy_pie[state][optimal_action] = 1\n",
    "                for action in range(4):\n",
    "                    if(optimal_action != action):\n",
    "                        policy_pie[state][action] = 0\n",
    "                if old_action != optimal_action:\n",
    "                    # print(\"yes\")\n",
    "                    policy_stable = False\n",
    "            if policy_stable:\n",
    "                show_state_value(row, col, old_state_values)\n",
    "                flag = False\n",
    "                break\n",
    "            else:\n",
    "                # print(\"Not yet\")\n",
    "                # show_state_value(row, col, old_state_values)\n",
    "\n",
    "                break\n",
    "                    \n"
   ]
  },
  {
   "cell_type": "code",
   "execution_count": 2,
   "metadata": {},
   "outputs": [
    {
     "ename": "NameError",
     "evalue": "name 'row' is not defined",
     "output_type": "error",
     "traceback": [
      "\u001b[1;31m---------------------------------------------------------------------------\u001b[0m",
      "\u001b[1;31mNameError\u001b[0m                                 Traceback (most recent call last)",
      "\u001b[1;32mc:\\Users\\hp\\Desktop\\Sem 5\\RL Assignments\\Assignment2\\Q7.ipynb Cell 6\u001b[0m line \u001b[0;36m1\n\u001b[1;32m----> <a href='vscode-notebook-cell:/c%3A/Users/hp/Desktop/Sem%205/RL%20Assignments/Assignment2/Q7.ipynb#W5sZmlsZQ%3D%3D?line=0'>1</a>\u001b[0m policy_iteration(num_states \u001b[39m=\u001b[39m row\u001b[39m*\u001b[39mcol, theta\u001b[39m=\u001b[39m \u001b[39m0.015\u001b[39m, tolerance\u001b[39m=\u001b[39m \u001b[39m1e-5\u001b[39m)\n",
      "\u001b[1;31mNameError\u001b[0m: name 'row' is not defined"
     ]
    }
   ],
   "source": [
    "policy_iteration(num_states = row*col, theta= 0.015, tolerance= 1e-5)"
   ]
  }
 ],
 "metadata": {
  "kernelspec": {
   "display_name": "Python 3",
   "language": "python",
   "name": "python3"
  },
  "language_info": {
   "codemirror_mode": {
    "name": "ipython",
    "version": 3
   },
   "file_extension": ".py",
   "mimetype": "text/x-python",
   "name": "python",
   "nbconvert_exporter": "python",
   "pygments_lexer": "ipython3",
   "version": "3.10.11"
  },
  "orig_nbformat": 4
 },
 "nbformat": 4,
 "nbformat_minor": 2
}
